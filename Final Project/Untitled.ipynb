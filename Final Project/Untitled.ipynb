{
 "cells": [
  {
   "cell_type": "markdown",
   "id": "a9d78e0f-78e0-4212-b8b5-4e0ca914dd8b",
   "metadata": {},
   "source": [
    "This file is for doing some different EDA that will then be placed in the assignment file."
   ]
  },
  {
   "cell_type": "code",
   "execution_count": 2,
   "id": "a22df25d-b9d5-4462-bacf-13d306dadb20",
   "metadata": {},
   "outputs": [
    {
     "name": "stdout",
     "output_type": "stream",
     "text": [
      "<class 'pandas.core.frame.DataFrame'>\n",
      "RangeIndex: 10082 entries, 0 to 10081\n",
      "Columns: 189 entries, CityBlock to OwnerUpdate\n",
      "dtypes: bool(7), float64(19), int64(98), object(65)\n",
      "memory usage: 14.1+ MB\n",
      "None\n"
     ]
    },
    {
     "name": "stderr",
     "output_type": "stream",
     "text": [
      "C:\\Users\\LC Harrison Sand\\AppData\\Local\\Temp\\ipykernel_6432\\3144871295.py:3: DtypeWarning: Columns (29,71,72,91,92) have mixed types. Specify dtype option on import or set low_memory=False.\n",
      "  parcel_data = pd.read_csv(r\"C:\\Users\\LC Harrison Sand\\OneDrive\\Documents\\Final Project\\PRCL w Forestry Data.csv\")\n"
     ]
    }
   ],
   "source": [
    "import pandas as pd\n",
    "\n",
    "parcel_data = pd.read_csv(r\"C:\\Users\\LC Harrison Sand\\OneDrive\\Documents\\Final Project\\PRCL w Forestry Data.csv\")\n",
    "\n",
    "print(parcel_data.info())"
   ]
  },
  {
   "cell_type": "code",
   "execution_count": null,
   "id": "cefa66bc-4324-4c58-8721-3366b4ed9179",
   "metadata": {},
   "outputs": [],
   "source": []
  }
 ],
 "metadata": {
  "kernelspec": {
   "display_name": "Python 3 (ipykernel)",
   "language": "python",
   "name": "python3"
  },
  "language_info": {
   "codemirror_mode": {
    "name": "ipython",
    "version": 3
   },
   "file_extension": ".py",
   "mimetype": "text/x-python",
   "name": "python",
   "nbconvert_exporter": "python",
   "pygments_lexer": "ipython3",
   "version": "3.12.5"
  }
 },
 "nbformat": 4,
 "nbformat_minor": 5
}
