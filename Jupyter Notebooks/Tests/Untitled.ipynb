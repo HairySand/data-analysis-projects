{
 "cells": [
  {
   "cell_type": "code",
   "execution_count": 10,
   "id": "6655f1c6-98c3-4274-b558-5032d85819ac",
   "metadata": {},
   "outputs": [],
   "source": [
    "import numpy as np"
   ]
  },
  {
   "cell_type": "code",
   "execution_count": 11,
   "id": "0a8123d2-0997-4962-be25-48b132e2da6c",
   "metadata": {},
   "outputs": [
    {
     "name": "stdout",
     "output_type": "stream",
     "text": [
      "[8 5 3 2 1 1]\n"
     ]
    }
   ],
   "source": [
    "# Create a NumPy array from a list\n",
    "array1 = np.array([8, 5, 3, 2, 1, 1])\n",
    "print(array1)"
   ]
  },
  {
   "cell_type": "code",
   "execution_count": 12,
   "id": "27892db1-c6bc-4841-96a3-2a0a39f30e47",
   "metadata": {},
   "outputs": [
    {
     "name": "stdout",
     "output_type": "stream",
     "text": [
      "[1 2 3 4 5 6]\n"
     ]
    }
   ],
   "source": [
    "array10 = np.array([1,2,3,4,5,6])\n",
    "print(array10)"
   ]
  },
  {
   "cell_type": "code",
   "execution_count": 14,
   "id": "b5fe9d71-5cee-496f-91b2-01aa2ecefef7",
   "metadata": {},
   "outputs": [
    {
     "name": "stdout",
     "output_type": "stream",
     "text": [
      "[[5 1 3]\n",
      " [1 8 7]\n",
      " [3 7 9]]\n"
     ]
    }
   ],
   "source": [
    "array2 = np.array([[5,1,3],[1,8,7],[3,7,9]])\n",
    "print(array2)"
   ]
  },
  {
   "cell_type": "code",
   "execution_count": 20,
   "id": "044c4b14-b0ce-4056-9f28-6e38da2602f9",
   "metadata": {},
   "outputs": [
    {
     "name": "stdout",
     "output_type": "stream",
     "text": [
      "dimension of array2: 2\n"
     ]
    }
   ],
   "source": [
    "print(f\"dimension of array2:\", array2.ndim)\n"
   ]
  },
  {
   "cell_type": "code",
   "execution_count": 24,
   "id": "a264cc3a-7844-44d9-8197-3abb5beed5ac",
   "metadata": {},
   "outputs": [
    {
     "name": "stdout",
     "output_type": "stream",
     "text": [
      "shape of array2: (3, 3)\n"
     ]
    }
   ],
   "source": [
    "print(f\"shape of array2: {array2.shape}\")"
   ]
  },
  {
   "cell_type": "code",
   "execution_count": 25,
   "id": "81fd63e5-abc3-4c80-abf3-6deee4641503",
   "metadata": {},
   "outputs": [
    {
     "name": "stdout",
     "output_type": "stream",
     "text": [
      "[1 1 2 3 5 8]\n"
     ]
    }
   ],
   "source": [
    "print(np.sort(array1))"
   ]
  },
  {
   "cell_type": "code",
   "execution_count": 26,
   "id": "ceed324f-198b-48e8-a385-0695b7e4a436",
   "metadata": {},
   "outputs": [
    {
     "name": "stdout",
     "output_type": "stream",
     "text": [
      "[array([8, 5]), array([3, 2]), array([1, 1])]\n"
     ]
    }
   ],
   "source": [
    "newarray1 = np.array_split(array1, 3)\n",
    "print(newarray1)"
   ]
  },
  {
   "cell_type": "code",
   "execution_count": null,
   "id": "74fb43e4-bd8f-4e16-a090-fcb97c9a0d0b",
   "metadata": {},
   "outputs": [],
   "source": []
  }
 ],
 "metadata": {
  "kernelspec": {
   "display_name": "Python 3 (ipykernel)",
   "language": "python",
   "name": "python3"
  },
  "language_info": {
   "codemirror_mode": {
    "name": "ipython",
    "version": 3
   },
   "file_extension": ".py",
   "mimetype": "text/x-python",
   "name": "python",
   "nbconvert_exporter": "python",
   "pygments_lexer": "ipython3",
   "version": "3.12.5"
  }
 },
 "nbformat": 4,
 "nbformat_minor": 5
}
