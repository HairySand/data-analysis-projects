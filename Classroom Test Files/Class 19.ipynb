{
 "cells": [
  {
   "cell_type": "markdown",
   "id": "85edeed5-d1c6-4a35-afca-334d6f97bd89",
   "metadata": {},
   "source": [
    "Class 19 examples and playground."
   ]
  },
  {
   "cell_type": "code",
   "execution_count": 2,
   "id": "8ca915fa-055f-4a92-958b-4aaed16ddd1e",
   "metadata": {},
   "outputs": [],
   "source": [
    "import pandas as pd\n",
    "import numpy as np"
   ]
  },
  {
   "cell_type": "code",
   "execution_count": 3,
   "id": "2a16acd5-e641-47ee-8e0a-30eb84352412",
   "metadata": {},
   "outputs": [
    {
     "name": "stdout",
     "output_type": "stream",
     "text": [
      "[8 5 3 2 1 1]\n"
     ]
    }
   ],
   "source": [
    "array1 = np.array([8,5,3,2,1,1]) #Have to be same data type.\n",
    "print(array1)"
   ]
  },
  {
   "cell_type": "code",
   "execution_count": 7,
   "id": "78068668-f324-4c7e-885b-3a9e141c8e35",
   "metadata": {},
   "outputs": [],
   "source": [
    "arraymd = np.array([[1,1,1],[2,2,2],[3,3,3]])\n",
    "arraymd2 = np.array([[2,2,2],[3,3,3],[1,1,1]])"
   ]
  },
  {
   "cell_type": "code",
   "execution_count": 8,
   "id": "7edb7ae5-b370-417d-9bb7-9f4f5b20d157",
   "metadata": {},
   "outputs": [
    {
     "name": "stdout",
     "output_type": "stream",
     "text": [
      "[[2 2 2]\n",
      " [6 6 6]\n",
      " [3 3 3]]\n"
     ]
    }
   ],
   "source": [
    "arrayx = arraymd2 * arraymd\n",
    "print(arrayx)"
   ]
  },
  {
   "cell_type": "code",
   "execution_count": 9,
   "id": "cb9195c1-6715-4146-b7af-a33973aa088a",
   "metadata": {},
   "outputs": [
    {
     "name": "stdout",
     "output_type": "stream",
     "text": [
      "2\n",
      "(3, 3)\n"
     ]
    }
   ],
   "source": [
    "print(arrayx.ndim) #This is looking at how many coordinates are in the array such as (x,y)\n",
    "\n",
    "print(arrayx.shape) #Tells numbers of rows and columns"
   ]
  },
  {
   "cell_type": "code",
   "execution_count": 11,
   "id": "27e37ac4-352b-406d-85ce-9798247f0cfa",
   "metadata": {},
   "outputs": [],
   "source": [
    "array3d = np.array([[[1,2], [2,3]], [[1,2], [2,3]]])"
   ]
  },
  {
   "cell_type": "code",
   "execution_count": 12,
   "id": "209379ca-a6f4-495a-927d-71487dc036fc",
   "metadata": {},
   "outputs": [
    {
     "name": "stdout",
     "output_type": "stream",
     "text": [
      "[[[1 2]\n",
      "  [2 3]]\n",
      "\n",
      " [[1 2]\n",
      "  [2 3]]]\n",
      "3\n"
     ]
    }
   ],
   "source": [
    "print(array3d)\n",
    "print(array3d.ndim)"
   ]
  },
  {
   "cell_type": "code",
   "execution_count": 16,
   "id": "8dd2a282-7485-4860-a408-fd245622da9c",
   "metadata": {},
   "outputs": [
    {
     "name": "stdout",
     "output_type": "stream",
     "text": [
      "[[4 2 2]\n",
      " [6 6 6]\n",
      " [3 3 3]\n",
      " [1 1 1]\n",
      " [2 2 2]\n",
      " [3 3 3]]\n",
      "[[4 2 2 1 1 1]\n",
      " [6 6 6 2 2 2]\n",
      " [3 3 3 3 3 3]]\n"
     ]
    }
   ],
   "source": [
    "arrayc0 = np.concatenate((arrayx, arraymd), axis = 0)\n",
    "arrayc1 = np.concatenate((arrayx, arraymd), axis = 1)\n",
    "\n",
    "\n",
    "print(arrayc0)\n",
    "print(arrayc1)\n"
   ]
  },
  {
   "cell_type": "code",
   "execution_count": 14,
   "id": "dd33b899-16bb-4b8b-bb68-fd6179e51239",
   "metadata": {},
   "outputs": [
    {
     "name": "stdout",
     "output_type": "stream",
     "text": [
      "[[2 2 2]\n",
      " [6 6 6]\n",
      " [3 3 3]]\n",
      "[[4 2 2]\n",
      " [6 6 6]\n",
      " [3 3 3]]\n"
     ]
    }
   ],
   "source": [
    "print(arrayx)\n",
    "arrayx[0,0] = arrayx[0,0] *2\n",
    "print(arrayx)"
   ]
  },
  {
   "cell_type": "code",
   "execution_count": 17,
   "id": "0d74e069-d98f-44c5-a574-2a7c3cf1f4b6",
   "metadata": {},
   "outputs": [
    {
     "name": "stdout",
     "output_type": "stream",
     "text": [
      "The mean of arrayx is 3.888888888888889\n"
     ]
    }
   ],
   "source": [
    "print(\"The mean of arrayx is\", np.mean(arrayx))"
   ]
  },
  {
   "cell_type": "code",
   "execution_count": 19,
   "id": "fcba30e1-b57a-4a8c-ac56-682966607f21",
   "metadata": {},
   "outputs": [],
   "source": [
    "example_list = pd.Series(['apples','bananas','grapes'])"
   ]
  },
  {
   "cell_type": "code",
   "execution_count": null,
   "id": "b792aca2-57d0-4b63-b4c4-1d51063160a3",
   "metadata": {},
   "outputs": [],
   "source": []
  }
 ],
 "metadata": {
  "kernelspec": {
   "display_name": "Python 3 (ipykernel)",
   "language": "python",
   "name": "python3"
  },
  "language_info": {
   "codemirror_mode": {
    "name": "ipython",
    "version": 3
   },
   "file_extension": ".py",
   "mimetype": "text/x-python",
   "name": "python",
   "nbconvert_exporter": "python",
   "pygments_lexer": "ipython3",
   "version": "3.12.5"
  }
 },
 "nbformat": 4,
 "nbformat_minor": 5
}
